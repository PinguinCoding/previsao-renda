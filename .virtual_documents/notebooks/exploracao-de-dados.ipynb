

















import pandas as pd
import numpy as np
import seaborn as sns
import matplotlib.pyplot as plt
from ydata_profiling import ProfileReport








renda = pd.read_csv('../data/raw/previsao_de_renda.csv').drop('Unnamed: 0', axis=1)
renda.head(5)





prof = ProfileReport(renda, explorative=True, minimal=True)
prof


prof.to_file('../reports/renda_analisys.html')




















id_duplicados = [item for item in renda['id_cliente'].value_counts().index if renda['id_cliente'].value_counts()[item] != 1]


renda.loc[renda['id_cliente'].isin(id_duplicados)].sort_values(by='id_cliente').head(10)





renda['data_ref'] = pd.to_datetime(renda['data_ref'])
renda['data_ref']

















def calcular_entropia_shannon(tab_freq):
    h = 0
    for classe in tab_freq.index:
        h += tab_freq[classe] * np.log2(tab_freq[classe])
    return h * -1


def calcular_entropia_maxima(tab_freq):
    return np.log2(len(tab_freq))


taxas_entropia_antes = dict()

for col in renda.select_dtypes(include=['object', 'bool']).columns:
    tab = renda[col].value_counts() / len(renda[col])
    h = calcular_entropia_shannon(tab)
    h_max = calcular_entropia_maxima(tab)
    tx_h = (h / h_max) * 100
    taxas_entropia_antes[col] = tx_h
    print('A entropia da variável {} é de {:.2f} e seu máximo de entropia é {:.2f}'.format(col, h, h_max))
    print('Taxa de Entropia {:.2f}%'.format(tx_h))
    print()











renda.info()





renda.corr(numeric_only=True)['qtd_filhos']['qt_pessoas_residencia']








renda['tam_familia'] = ''
renda.loc[(renda['qtd_filhos'] == 0) & (renda['qt_pessoas_residencia'] == 1.0), 'tam_familia'] = 'Mínima'
renda.loc[(renda['qtd_filhos'] != 0) & (renda['qt_pessoas_residencia'] == 1.0), 'tam_familia'] = 'Pequena'
renda.loc[(renda['qtd_filhos'] >= 0) & (renda['qt_pessoas_residencia'] > 1.0) & (renda['qt_pessoas_residencia'] <= 3.0), 'tam_familia'] = 'Pequena'
renda.loc[(renda['qtd_filhos'] >= 0) & (renda['qt_pessoas_residencia'] > 3.0) & (renda['qt_pessoas_residencia'] <= 5.0), 'tam_familia'] = 'Média'
renda.loc[(renda['qtd_filhos'] >= 0) & (renda['qt_pessoas_residencia'] > 5.0), 'tam_familia'] = 'Grande'
renda[['qtd_filhos', 'qt_pessoas_residencia', 'tam_familia']]





tab = renda['tam_familia'].value_counts() / len(renda['tam_familia'])
taxas_entropia_antes['tam_familia'] = (calcular_entropia_shannon(tab) / calcular_entropia_maxima(tab)) * 100
print('A entropia da nova variável tam_familia é de {:.2f} e seu máximo de entropia é {:.2f}'.format(calcular_entropia_shannon(tab), 
                                                                                                     calcular_entropia_maxima(tab)))
print('Taxa de Entropia {:.2f}%'.format(taxas_entropia_antes['tam_familia']))





df = renda.dropna(axis=0).drop_duplicates(subset='id_cliente', )
df.info()


prof = ProfileReport(df, explorative=True, minimal=True)
prof


prof.to_file('../reports/renda_analisys_clean.html')





for col in df.select_dtypes(include=['object', 'bool']).columns:
    tab = df[col].value_counts() / len(df[col])
    h = calcular_entropia_shannon(tab)
    h_max = calcular_entropia_maxima(tab)
    tx_h = (h / h_max) * 100
    print('A entropia da variável {} é de {:.2f} e seu máximo de entropia é {:.2f}'.format(col, h, h_max))
    print('Taxa de Entropia Atual {:.2f}%'.format(tx_h))
    print('Taxa de Entropia Anterior {:.2f}%'.format(taxas_entropia_antes[col]))
    print('Diferença: {:.2f}%'.format(tx_h - taxas_entropia_antes[col]))
    print()





df['sexo'] = df['sexo'].map({'F': 1, 'M': 0})
df['posse_de_veiculo'] = df['posse_de_veiculo'].astype(np.int64)
df['posse_de_imovel'] = df['posse_de_imovel'].astype(np.int64)
df['qt_pessoas_residencia'] = df['qt_pessoas_residencia'].astype(np.int64)


df.head(5)





%matplotlib inline
sns.set_style('whitegrid')
sns.heatmap(data=pd.get_dummies(data=df).drop(labels=[col for col in df.columns], errors='ignore', axis=1).corr(), cmap='crest')
plt.show()





corr = pd.get_dummies(data=df).drop(labels=[col for col in df.columns], errors='ignore', axis=1).corr()
values0 = dict()
values = dict()

for col in corr:
    values0[col] = ([(corr[col].index[corr[col] == item].tolist()[0], item) for item in corr[col] if (item > 0.5) or (item < -0.5)])

for key in values0.keys():
    if len(values0[key]) != 1:
        values[key] = [item for item in values0[key] if item[1] != 1.0]

for key in values.keys():
    print('A classe {} tem correlações com:'.format(key))
    for c, v in values[key]:
        print('\tClasse {} igual a {}'.format(c, v))
    print()





pd.get_dummies(data=df).drop(labels=[col for col in df.columns], errors='ignore', axis=1).assign(renda = df['renda']).corr()['renda']





sns.heatmap(data=pd.get_dummies(data=df).corr(), cmap='crest')
plt.show()





corr = pd.get_dummies(data=df).corr()
values0 = dict()
values = dict()

for col in corr:
    values0[col] = ([(corr[col].index[corr[col] == item].tolist()[0], item) for item in corr[col] if (item > 0.5) or (item < -0.5)])

for key in values0.keys():
    if len(values0[key]) != 1:
        values[key] = [item for item in values0[key] if item[1] != 1.0]

for key in values.keys():
    print('A classe/variável {} tem correlações com:'.format(key))
    for c, v in values[key]:
        print('\tClasse/variável {} igual a {}'.format(c, v))
    print()





pd.get_dummies(data=df).assign(renda = df['renda']).corr()['renda']





fig, ax = plt.subplots()
sns.barplot(pd.get_dummies(data=df)
            .drop(labels=[col for col in df.columns], errors='ignore', axis=1)
            .assign(renda = df['renda'])
            .corr()
            .drop('renda', axis=0)['renda'], ax=ax)
ax.set_xticks(ax.get_xticks())
ax.set_xticklabels(ax.get_xticklabels(), rotation=90)
ax.set_yticks(ticks=np.arange(-.3, 1.1, .1))
ax.set_ylabel('Correlação com Renda')
plt.title('Correlação das Classes com a Variável Renda')
plt.show()





fig, ax = plt.subplots()
sns.barplot(pd.get_dummies(data=df).corr()['renda'].drop('renda', axis=0), ax=ax)
ax.set_xticks(ax.get_xticks())
ax.set_xticklabels(ax.get_xticklabels(), rotation=90)
ax.set_yticks(ticks=np.arange(-.3, 1.1, .1))
ax.set_ylabel('Correlação com Renda')
plt.title('Correlação das Variáveis com Renda')
plt.show()





df = df.drop('tipo_residencia', axis=1)
df.head(5)






















































