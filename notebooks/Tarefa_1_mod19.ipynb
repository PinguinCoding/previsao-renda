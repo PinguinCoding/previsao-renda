{
 "cells": [
  {
   "cell_type": "markdown",
   "id": "c068ca4e-437b-4a52-b3a3-11418981ea72",
   "metadata": {},
   "source": [
    "## <span style=\"color: blue;\"> Fórmula de Bhaskara</span>\n",
    "\n",
    "A solução para uma função de segundo grau depende das duas raízes (valores de X). Como já vimos, os coeficientes precisam ser números reais e o angular diferente de zero. Sendo assim, temos a seguinte fórmula de Bhaskara:\n",
    "\n",
    "$$\\huge\n",
    "x = \\frac {-b \\pm \\sqrt {b^2 - 4.a.c}}{2.a}\n",
    "$$\n",
    "\n",
    "<div style=\"text-align: center;\">\n",
    "    <i>Fórmula de Bhaskara.</i>\n",
    "</div>\n",
    "\n",
    "<br></br>\n",
    "\n",
    "Para melhor compreensão o seu cálculo é dividido em duas partes: discriminante da equação e operações para determinar as raízes.\n",
    "\n",
    "**Discriminante**\n",
    "\n",
    "A figura dentro da raiz na fórmula de Bhaskara é nomeada de discriminante. Seu símbolo é a letra grega delta e apresenta a determinada fórmula:\n",
    "\n",
    "$$\\Huge\n",
    "\\Delta = b^2 - 4.a.c\n",
    "$$\n",
    "\n",
    "<div style=\"text-align: center;\">\n",
    "    <i>Fórmula da discriminante</i>\n",
    "</div>\n",
    "\n",
    "<br></br>\n",
    "\n",
    "- Se o delta for maior que zero, a equação terá dois valores reais e distintos.\n",
    "- Se o delta for igual a zero, a equação terá somente um valor real ou dois resultados iguais.\n",
    "- Se delta for menor que zero, a equação não possuirá valores reais."
   ]
  }
 ],
 "metadata": {
  "kernelspec": {
   "display_name": "Python 3 (ipykernel)",
   "language": "python",
   "name": "python3"
  },
  "language_info": {
   "codemirror_mode": {
    "name": "ipython",
    "version": 3
   },
   "file_extension": ".py",
   "mimetype": "text/x-python",
   "name": "python",
   "nbconvert_exporter": "python",
   "pygments_lexer": "ipython3",
   "version": "3.11.7"
  }
 },
 "nbformat": 4,
 "nbformat_minor": 5
}
